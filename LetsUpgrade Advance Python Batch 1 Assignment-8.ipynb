{
 "cells": [
  {
   "cell_type": "markdown",
   "metadata": {},
   "source": [
    "# ASSIGNMENT -8"
   ]
  },
  {
   "cell_type": "raw",
   "metadata": {},
   "source": [
    "Question 1:\n",
    "write a program to find the given string in the root directory that contains a text file\n",
    "1. In a recursive manner (case in sensitive )\n",
    "2. only in the root directory\n",
    "use command line arguments.\n",
    "program_name -ri string root_dir (recursive)\n",
    "program_name -si string root_dir (root director )\n",
    "The output which file and line contains the string"
   ]
  },
  {
   "cell_type": "code",
   "execution_count": 1,
   "metadata": {},
   "outputs": [
    {
     "name": "stdout",
     "output_type": "stream",
     "text": [
      "C:\\Users\\Bolleddus\\Desktop\\python and data science\\python Advance\\day0.docx\n",
      "C:\\Users\\Bolleddus\\Desktop\\python and data science\\python Advance\\day1.docx\n",
      "C:\\Users\\Bolleddus\\Desktop\\python and data science\\python Advance\\day10.docx\n",
      "C:\\Users\\Bolleddus\\Desktop\\python and data science\\python Advance\\day11.docx\n",
      "C:\\Users\\Bolleddus\\Desktop\\python and data science\\python Advance\\day12.docx\n",
      "C:\\Users\\Bolleddus\\Desktop\\python and data science\\python Advance\\day13.docx\n",
      "C:\\Users\\Bolleddus\\Desktop\\python and data science\\python Advance\\day14.docx\n",
      "C:\\Users\\Bolleddus\\Desktop\\python and data science\\python Advance\\day15.docx\n",
      "C:\\Users\\Bolleddus\\Desktop\\python and data science\\python Advance\\day16.docx\n",
      "C:\\Users\\Bolleddus\\Desktop\\python and data science\\python Advance\\day17.docx\n",
      "C:\\Users\\Bolleddus\\Desktop\\python and data science\\python Advance\\day18.docx\n",
      "C:\\Users\\Bolleddus\\Desktop\\python and data science\\python Advance\\day2.docx\n",
      "C:\\Users\\Bolleddus\\Desktop\\python and data science\\python Advance\\day3.docx\n",
      "C:\\Users\\Bolleddus\\Desktop\\python and data science\\python Advance\\day4.docx\n",
      "C:\\Users\\Bolleddus\\Desktop\\python and data science\\python Advance\\day5.docx\n",
      "C:\\Users\\Bolleddus\\Desktop\\python and data science\\python Advance\\day6.docx\n",
      "C:\\Users\\Bolleddus\\Desktop\\python and data science\\python Advance\\day7.docx\n",
      "C:\\Users\\Bolleddus\\Desktop\\python and data science\\python Advance\\day8.docx\n",
      "C:\\Users\\Bolleddus\\Desktop\\python and data science\\python Advance\\day9.docx\n",
      "C:\\Users\\Bolleddus\\Desktop\\python and data science\\python Advance\\finder_for_3.py\n",
      "C:\\Users\\Bolleddus\\Desktop\\python and data science\\python Advance\\payment success.png\n",
      "C:\\Users\\Bolleddus\\Desktop\\python and data science\\python Advance\\assignments\\hydra prog.docx\n",
      "C:\\Users\\Bolleddus\\Desktop\\python and data science\\python Advance\\assignments\\LetsUpgrade Advance Python Batch 1 Assignment-1.html\n",
      "C:\\Users\\Bolleddus\\Desktop\\python and data science\\python Advance\\assignments\\LetsUpgrade Advance Python Batch 1 Assignment-1.py\n",
      "C:\\Users\\Bolleddus\\Desktop\\python and data science\\python Advance\\assignments\\LetsUpgrade Advance Python Batch 1 Assignment-2.html\n",
      "C:\\Users\\Bolleddus\\Desktop\\python and data science\\python Advance\\assignments\\LetsUpgrade Advance Python Batch 1 Assignment-2.py\n",
      "C:\\Users\\Bolleddus\\Desktop\\python and data science\\python Advance\\assignments\\LetsUpgrade Advance Python Batch 1 Assignment-3.html\n",
      "C:\\Users\\Bolleddus\\Desktop\\python and data science\\python Advance\\assignments\\LetsUpgrade Advance Python Batch 1 Assignment-3.py\n",
      "C:\\Users\\Bolleddus\\Desktop\\python and data science\\python Advance\\assignments\\LetsUpgrade Advance Python Batch 1 Assignment-4.html\n",
      "C:\\Users\\Bolleddus\\Desktop\\python and data science\\python Advance\\assignments\\LetsUpgrade Advance Python Batch 1 Assignment-4.py\n",
      "C:\\Users\\Bolleddus\\Desktop\\python and data science\\python Advance\\assignments\\LetsUpgrade Advance Python Batch 1 Assignment-5.html\n",
      "C:\\Users\\Bolleddus\\Desktop\\python and data science\\python Advance\\assignments\\LetsUpgrade Advance Python Batch 1 Assignment-5.py\n",
      "C:\\Users\\Bolleddus\\Desktop\\python and data science\\python Advance\\assignments\\LetsUpgrade Advance Python Batch 1 Assignment-6.html\n",
      "C:\\Users\\Bolleddus\\Desktop\\python and data science\\python Advance\\assignments\\LetsUpgrade Advance Python Batch 1 Assignment-6.py\n",
      "C:\\Users\\Bolleddus\\Desktop\\python and data science\\python Advance\\assignments\\LetsUpgrade Advance Python Batch 1 Assignment-7.html\n",
      "C:\\Users\\Bolleddus\\Desktop\\python and data science\\python Advance\\assignments\\LetsUpgrade Advance Python Batch 1 Assignment-7.py\n",
      "C:\\Users\\Bolleddus\\Desktop\\python and data science\\python Advance\\materials\\config_parser.png\n",
      "C:\\Users\\Bolleddus\\Desktop\\python and data science\\python Advance\\materials\\config_parser1.png\n",
      "C:\\Users\\Bolleddus\\Desktop\\python and data science\\python Advance\\materials\\exc - Mohit Raj.ini\n",
      "C:\\Users\\Bolleddus\\Desktop\\python and data science\\python Advance\\materials\\IP addressing.pdf\n",
      "C:\\Users\\Bolleddus\\Desktop\\python and data science\\python Advance\\materials\\letus - Mohit Raj.ini\n",
      "C:\\Users\\Bolleddus\\Desktop\\python and data science\\python Advance\\materials\\live - Mohit Raj (1).log\n",
      "C:\\Users\\Bolleddus\\Desktop\\python and data science\\python Advance\\materials\\live - Mohit Raj.log\n",
      "C:\\Users\\Bolleddus\\Desktop\\python and data science\\python Advance\\materials\\live1 - Mohit Raj.log\n",
      "C:\\Users\\Bolleddus\\Desktop\\python and data science\\python Advance\\materials\\logger - Mohit Raj.pdf\n",
      "C:\\Users\\Bolleddus\\Desktop\\python and data science\\python Advance\\materials\\Python Time - Copy - Mohit Raj.pdf\n",
      "C:\\Users\\Bolleddus\\Desktop\\python and data science\\python Advance\\materials\\Python time modules - Mohit Raj.pdf\n",
      "C:\\Users\\Bolleddus\\Desktop\\python and data science\\python Advance\\project\\project1\\Category.txt\n",
      "C:\\Users\\Bolleddus\\Desktop\\python and data science\\python Advance\\project\\project1\\data1.txt\n",
      "C:\\Users\\Bolleddus\\Desktop\\python and data science\\python Advance\\temp\\con1.ini\n",
      "C:\\Users\\Bolleddus\\Desktop\\python and data science\\python Advance\\temp\\config1.py\n",
      "C:\\Users\\Bolleddus\\Desktop\\python and data science\\python Advance\\temp\\day5.docx\n",
      "C:\\Users\\Bolleddus\\Desktop\\python and data science\\python Advance\\temp\\default1.py\n",
      "C:\\Users\\Bolleddus\\Desktop\\python and data science\\python Advance\\temp\\LetsUpgrade Advance Python Batch 1 Assignment-6.html\n",
      "C:\\Users\\Bolleddus\\Desktop\\python and data science\\python Advance\\temp\\LetsUpgrade Advance Python Batch 1 Assignment-6.ipynb\n",
      "C:\\Users\\Bolleddus\\Desktop\\python and data science\\python Advance\\temp\\LetsUpgrade Advance Python Batch 1 Assignment-7.ipynb\n",
      "C:\\Users\\Bolleddus\\Desktop\\python and data science\\python Advance\\temp\\Main_class.class\n",
      "C:\\Users\\Bolleddus\\Desktop\\python and data science\\python Advance\\temp\\Main_class.java\n",
      "C:\\Users\\Bolleddus\\Desktop\\python and data science\\python Advance\\temp\\regular1.py\n",
      "C:\\Users\\Bolleddus\\Desktop\\python and data science\\python Advance\\temp\\walk1.py\n",
      "C:\\Users\\Bolleddus\\Desktop\\python and data science\\python Advance\\temp\\assignment\\day5.docx\n"
     ]
    }
   ],
   "source": [
    "import os\n",
    "root=\"C:\\\\Users\\\\Bolleddus\\\\Desktop\\\\python and data science\\\\python Advance\"\n",
    "for root,dir,files in os.walk(root):\n",
    "    for f in files:\n",
    "        path=root+\"\\\\\"+f\n",
    "        print(path)\n",
    "\n",
    "def check_string_in_file(f, string_to_search):\n",
    "    with open(file_name, 'r') as read_obj:\n",
    "        for line in read_obj:\n",
    "            if string_to_search in line:\n",
    "                return True\n",
    "    return False\n",
    "    with open(f) as myFile:\n",
    "        for num, line in enumerate(myFile, 1):\n",
    "             if lookup in line:\n",
    "                print('found at line:', num)"
   ]
  },
  {
   "cell_type": "code",
   "execution_count": null,
   "metadata": {},
   "outputs": [],
   "source": []
  }
 ],
 "metadata": {
  "kernelspec": {
   "display_name": "Python 3",
   "language": "python",
   "name": "python3"
  },
  "language_info": {
   "codemirror_mode": {
    "name": "ipython",
    "version": 3
   },
   "file_extension": ".py",
   "mimetype": "text/x-python",
   "name": "python",
   "nbconvert_exporter": "python",
   "pygments_lexer": "ipython3",
   "version": "3.7.6"
  }
 },
 "nbformat": 4,
 "nbformat_minor": 4
}
