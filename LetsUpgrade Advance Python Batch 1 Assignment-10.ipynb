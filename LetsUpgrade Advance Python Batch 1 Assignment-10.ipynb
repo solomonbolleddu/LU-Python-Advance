{
 "cells": [
  {
   "cell_type": "markdown",
   "metadata": {},
   "source": [
    "# ASSIGNMENT-10"
   ]
  },
  {
   "cell_type": "raw",
   "metadata": {},
   "source": [
    "Question 1:\n",
    "Finder program\n",
    "# Dict, list, queue\n",
    "# directory --- os.walk()\n",
    "list1 = [c:, d:, e:]\n",
    "dict1 = {}\n",
    "def func(drive)\n",
    "resp = os.walk(drive)\n",
    "statem1\n",
    "st\n",
    "dict1[file] = path\n",
    "for drive in list1:\n",
    "#th1 = Thread(target= func(drive))\n",
    "#th1.start()\n",
    "func(drive)\n",
    "# apply join\n",
    "finding total time of execution #\n",
    "dict ---> pickle"
   ]
  },
  {
   "cell_type": "code",
   "execution_count": null,
   "metadata": {},
   "outputs": [],
   "source": [
    "import os, re, time, argparse, pickle\n",
    "from threading import Thread\n",
    "\n",
    "Time1=time.time()\n",
    "dictionary = {}\n",
    "initial = 1\n",
    "def get_drives():\n",
    "    resp= os.popen(\"wmic logicaldisk get caption\")\n",
    "    drive=resp.read()\n",
    "    return drive.split()[1:]\n",
    "\n",
    "def index_creating(path):\n",
    "    global initial\n",
    "    resp=os.walk(path)\n",
    "    for root,directory,files in resp:\n",
    "        for file in files:\n",
    "            path_A=root+\"\\\\\"+file\n",
    "            file_A=file\n",
    "            if file_A in dictionary:\n",
    "                file_A=file+\"|\"+str(initial)\n",
    "                initial=initial+1\n",
    "            dictionary[file_A]=path_A\n",
    "\n",
    "def create_index():\n",
    "    list_A=[]\n",
    "    for directory in get_drives():\n",
    "        print(directory)\n",
    "        thread=Thread(target=index_creating,args=(directory+\"\\\\\",))\n",
    "        list_A.append(thread)\n",
    "        thread.start()\n",
    "    \n",
    "    for thread in list_A:\n",
    "        thread.join()\n",
    "    file_write=open(\"finder.index\",\"wb\")\n",
    "    pickle.dump(directory,file_write)\n",
    "    file_write.close()\n",
    "    Time2=time.time()\n",
    "    print(\"Index created and the time taken is:\", Time2-Time1)\n",
    "\n",
    "def search(file_A):\n",
    "    Time3 = time.time()\n",
    "    file_read=open(\"finding.index\",\"rb\")\n",
    "    data_A=pickle.load(file_read)\n",
    "    file_read.close()\n",
    "    for k,v in dictionary.items():\n",
    "        k=k.split(\"|\")[0]\n",
    "        match=re.search(file_A,k,re.l)\n",
    "        if match:\n",
    "            print(k,\":\",v)\n",
    "    Time4=time.time()\n",
    "    print(\"time taken to search\",Time4-Time3)\n",
    "\n",
    "def main():\n",
    "    parser= argparse.ArgumentParser()\n",
    "    parser.add_argument(\"file_name\", nargs=\"?\")\n",
    "    parser.add_argument(\"-c\", help=\"Create index\", action='store_true')\n",
    "    args = parser.parse_args()\n",
    "    print (args)\n",
    "    try:\n",
    "        if args.c:\n",
    "            create_index()\n",
    "        \n",
    "        else:\n",
    "            if args.file_name==\"\"or args.file_name==None:\n",
    "                print(\"please give a file name:\\n\")\n",
    "            else:\n",
    "                search(args.file_name)\n",
    "    except Exception as e:\n",
    "        print(e)\n",
    "main()"
   ]
  },
  {
   "cell_type": "markdown",
   "metadata": {},
   "source": [
    "# THE ABOVE IS THE CODE IT WORKS GREAT ON CMD "
   ]
  },
  {
   "cell_type": "code",
   "execution_count": null,
   "metadata": {},
   "outputs": [],
   "source": []
  }
 ],
 "metadata": {
  "kernelspec": {
   "display_name": "Python 3",
   "language": "python",
   "name": "python3"
  },
  "language_info": {
   "codemirror_mode": {
    "name": "ipython",
    "version": 3
   },
   "file_extension": ".py",
   "mimetype": "text/x-python",
   "name": "python",
   "nbconvert_exporter": "python",
   "pygments_lexer": "ipython3",
   "version": "3.7.6"
  }
 },
 "nbformat": 4,
 "nbformat_minor": 4
}
