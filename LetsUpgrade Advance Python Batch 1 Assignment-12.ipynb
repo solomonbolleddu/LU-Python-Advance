{
 "cells": [
  {
   "cell_type": "markdown",
   "metadata": {},
   "source": [
    "# ASSIGNMENT-12"
   ]
  },
  {
   "cell_type": "raw",
   "metadata": {},
   "source": [
    "# Question 1:\n",
    "Execute this code 3 times with iterator and generator expression and write down your findings.\n",
    "import datetime\n",
    "main_list = list(range(100000000))\n",
    "t1 = datetime.datetime.now()\n",
    "list1 = (each**2 for each in main_list)\n",
    "for each in list1:\n",
    "each\n",
    "t2 = datetime.datetime.now()\n",
    "print (t2-t1)"
   ]
  },
  {
   "cell_type": "code",
   "execution_count": 1,
   "metadata": {},
   "outputs": [
    {
     "name": "stdout",
     "output_type": "stream",
     "text": [
      "findings using loop: 0:04:52.694645\n",
      "findings using iterator: 0:05:41.141681\n",
      "findings Using generator: 0:00:58.632435\n"
     ]
    }
   ],
   "source": [
    "import datetime\n",
    "main_list = list(range(100000000))\n",
    "\n",
    "#using loops\n",
    "list_A=[]\n",
    "t1 = datetime.datetime.now()\n",
    "for each in main_list:\n",
    "    (each**2)\n",
    "    list_A.append(each)\n",
    "for each in list_A:\n",
    "    each\n",
    "t2 = datetime.datetime.now()\n",
    "print (\"findings using loop:\",t2-t1)\n",
    "\n",
    "#using iterator\n",
    "list_B=[]\n",
    "t3=datetime.datetime.now()\n",
    "for iterator in main_list:\n",
    "    iterator**2\n",
    "    list_B.append(iterator)\n",
    "list1 = iter(list_B)\n",
    "t4=datetime.datetime.now()\n",
    "print (\"findings using iterator:\",t4-t3)\n",
    "\n",
    "#using generator\n",
    "list_C=[]\n",
    "t5 = datetime.datetime.now()\n",
    "def SqrGen(max=100000000):\n",
    "    number = 0\n",
    "    while number < max:\n",
    "        yield number ** 2\n",
    "        number += 1\n",
    "for generator in SqrGen(max=100000000):\n",
    "    generator\n",
    "t6 = datetime.datetime.now()\n",
    "print(\"findings Using generator:\",t6-t5)"
   ]
  },
  {
   "cell_type": "code",
   "execution_count": null,
   "metadata": {},
   "outputs": [],
   "source": []
  }
 ],
 "metadata": {
  "kernelspec": {
   "display_name": "Python 3",
   "language": "python",
   "name": "python3"
  },
  "language_info": {
   "codemirror_mode": {
    "name": "ipython",
    "version": 3
   },
   "file_extension": ".py",
   "mimetype": "text/x-python",
   "name": "python",
   "nbconvert_exporter": "python",
   "pygments_lexer": "ipython3",
   "version": "3.7.6"
  }
 },
 "nbformat": 4,
 "nbformat_minor": 4
}
