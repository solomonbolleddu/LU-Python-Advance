{
 "cells": [
  {
   "cell_type": "markdown",
   "metadata": {},
   "source": [
    "# ASSIGNMENT-6"
   ]
  },
  {
   "cell_type": "raw",
   "metadata": {},
   "source": [
    "Question 1:\n",
    "Remove the hardcoded part from the code with the help of configparser\n",
    "Use the file config file exc.ini\n",
    "from configparser import ConfigParser\n",
    "import socket\n",
    "print (socket.gethostbyname_ex(socket.gethostname())[-1])\n",
    "config = ConfigParser()\n",
    "config.read(\"letus.ini\")\n",
    "http_ip = config.get(\"HTTP\", \"IP\")\n",
    "http_port = config.getint(\"HTTP\", \"port\")\n",
    "print (\"http ip\", http_ip)\n",
    "print (\"http port\", http_port, type(http_port))"
   ]
  },
  {
   "cell_type": "raw",
   "metadata": {},
   "source": [
    "config file:"
   ]
  },
  {
   "cell_type": "raw",
   "metadata": {},
   "source": [
    "from configparser import ConfigParser\n",
    "config = ConfigParser()\n",
    "config.read(\"con1.ini\")\n",
    "\n",
    "http_ip = config.get(\"HTTP\", \"IP\")\n",
    "http_port = config.getint(\"HTTP\", \"port\")\n",
    "\n",
    "print (\"http ip\", http_ip)\n",
    "print (\"http port\", http_port)"
   ]
  },
  {
   "cell_type": "raw",
   "metadata": {},
   "source": [
    "ini file:"
   ]
  },
  {
   "cell_type": "raw",
   "metadata": {},
   "source": [
    "[HTTP]\n",
    "ip = 192.168.10.6\n",
    "port = 8080"
   ]
  },
  {
   "cell_type": "raw",
   "metadata": {},
   "source": [
    "Question 2:\n",
    "The question has been asked in an interview\n",
    "Please write the code in such a way so that it could give all path of a #file (same name ) which is present\n",
    "in multiple locations.\n",
    "import os\n",
    "resp =os.walk(\"G:\\\\letsupgrade\\\\test\")\n",
    "d1= {}\n",
    "for r,d,f in resp:\n",
    "for file in f:\n",
    "d1[file]= r\n",
    "#print (d1)\n",
    "file_name = input(\"Enter the file name \")\n",
    "for k,v in d1.items():\n",
    "if file_name.lower() in k.lower() :\n",
    "print (k,\":\", v)"
   ]
  },
  {
   "cell_type": "code",
   "execution_count": 1,
   "metadata": {},
   "outputs": [
    {
     "name": "stdout",
     "output_type": "stream",
     "text": [
      "Enter the file name--day5\n",
      "day5.docx <--file:::paths--> ['C:\\\\Users\\\\Bolleddus\\\\desktop\\\\edureka bot and java\\\\java', 'C:\\\\Users\\\\Bolleddus\\\\desktop\\\\python\\\\python Advance', 'C:\\\\Users\\\\Bolleddus\\\\desktop\\\\python\\\\python Advance\\\\temp', 'C:\\\\Users\\\\Bolleddus\\\\desktop\\\\python\\\\python Advance\\\\temp\\\\assignment']\n",
      "day5.txt <--file:::paths--> ['C:\\\\Users\\\\Bolleddus\\\\desktop\\\\edureka bot and java\\\\java\\\\assignments']\n"
     ]
    }
   ],
   "source": [
    "import os\n",
    "resp =os.walk(\"C:\\\\Users\\\\Bolleddus\\\\desktop\")\n",
    "d1= {}\n",
    "for root,dirs,files in resp:\n",
    "\tfor file in files:\n",
    "\t\td1.setdefault(file,[]).append(root)\n",
    "file_name = input(\"Enter the file name--\")\n",
    "for k,v in d1.items():\n",
    "\tif file_name.lower() in k.lower() :\n",
    "\t\tprint (k ,\"<--file:::paths-->\", v)"
   ]
  },
  {
   "cell_type": "code",
   "execution_count": null,
   "metadata": {},
   "outputs": [],
   "source": []
  }
 ],
 "metadata": {
  "kernelspec": {
   "display_name": "Python 3",
   "language": "python",
   "name": "python3"
  },
  "language_info": {
   "codemirror_mode": {
    "name": "ipython",
    "version": 3
   },
   "file_extension": ".py",
   "mimetype": "text/x-python",
   "name": "python",
   "nbconvert_exporter": "python",
   "pygments_lexer": "ipython3",
   "version": "3.7.6"
  }
 },
 "nbformat": 4,
 "nbformat_minor": 4
}
