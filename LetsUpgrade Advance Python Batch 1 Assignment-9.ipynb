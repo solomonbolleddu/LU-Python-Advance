{
 "cells": [
  {
   "cell_type": "markdown",
   "metadata": {},
   "source": [
    "# ASSIGNMENT DAY-9"
   ]
  },
  {
   "cell_type": "raw",
   "metadata": {},
   "source": [
    "Question 1:\n",
    "How to make object as callable video __call__\n",
    "from collections import Counter\n",
    "class MyCounter(Counter):\n",
    "Add here required code so that we can give data to object like co1(\"intel\")\n",
    "co1 = MyCounter()\n",
    "co1(\"intel\")"
   ]
  },
  {
   "cell_type": "code",
   "execution_count": 5,
   "metadata": {},
   "outputs": [
    {
     "name": "stdout",
     "output_type": "stream",
     "text": [
      "intel\n"
     ]
    }
   ],
   "source": [
    "from collections import Counter\n",
    "class MyCounter(Counter):\n",
    "    def __call__(self,Counter):\n",
    "        self.Counter = Counter\n",
    "        print(Counter)\n",
    "        \n",
    "co1 = MyCounter()\n",
    "co1(\"intel\")"
   ]
  },
  {
   "cell_type": "code",
   "execution_count": null,
   "metadata": {},
   "outputs": [],
   "source": []
  }
 ],
 "metadata": {
  "kernelspec": {
   "display_name": "Python 3",
   "language": "python",
   "name": "python3"
  },
  "language_info": {
   "codemirror_mode": {
    "name": "ipython",
    "version": 3
   },
   "file_extension": ".py",
   "mimetype": "text/x-python",
   "name": "python",
   "nbconvert_exporter": "python",
   "pygments_lexer": "ipython3",
   "version": "3.7.6"
  }
 },
 "nbformat": 4,
 "nbformat_minor": 4
}
