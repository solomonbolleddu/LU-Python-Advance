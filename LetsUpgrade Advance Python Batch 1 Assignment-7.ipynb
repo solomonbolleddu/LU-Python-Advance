{
 "cells": [
  {
   "cell_type": "markdown",
   "metadata": {},
   "source": [
    "# ASSIGNMENT-7"
   ]
  },
  {
   "cell_type": "markdown",
   "metadata": {},
   "source": [
    "#Question 1:\n",
    "#Make a regular expression to get all IP addresses from the below link and Extract the IP addresses.\n",
    "#https://study-ccna.com/classes-of-ip-addresses/"
   ]
  },
  {
   "cell_type": "code",
   "execution_count": 1,
   "metadata": {},
   "outputs": [
    {
     "name": "stdout",
     "output_type": "stream",
     "text": [
      "10.47.8.4\n",
      "10.50.120.7\n",
      "127.0.0.0\n",
      "172.16.55.13\n",
      "172.55.54.74\n",
      "11.5.4.3\n",
      "172.16.254.3\n",
      "169.254.0.0\n",
      "0.0.0.0\n"
     ]
    }
   ],
   "source": [
    "import re,requests\n",
    "url =\"https://study-ccna.com/classes-of-ip-addresses/\"\n",
    "\n",
    "read = requests.get(url)\n",
    "\n",
    "data = read.text\n",
    "IP_Addresses = r\"[0-9]+\\.[0-9]+\\.[0-9]+\\.[0-9]+\"\n",
    "\n",
    "list_IP = re.findall(IP_Addresses,data)\n",
    "list_IP = list(set(list_IP))\n",
    "for each in list_IP:\n",
    "\tprint(each)"
   ]
  },
  {
   "cell_type": "code",
   "execution_count": null,
   "metadata": {},
   "outputs": [],
   "source": []
  }
 ],
 "metadata": {
  "kernelspec": {
   "display_name": "Python 3",
   "language": "python",
   "name": "python3"
  },
  "language_info": {
   "codemirror_mode": {
    "name": "ipython",
    "version": 3
   },
   "file_extension": ".py",
   "mimetype": "text/x-python",
   "name": "python",
   "nbconvert_exporter": "python",
   "pygments_lexer": "ipython3",
   "version": "3.7.6"
  }
 },
 "nbformat": 4,
 "nbformat_minor": 4
}
