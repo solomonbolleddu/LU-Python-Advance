{
 "cells": [
  {
   "cell_type": "markdown",
   "metadata": {},
   "source": [
    "# ASSIGNMENT-11 "
   ]
  },
  {
   "cell_type": "raw",
   "metadata": {},
   "source": [
    "Question 1:\n",
    "Perform the shallow and deep copy experiment"
   ]
  },
  {
   "cell_type": "markdown",
   "metadata": {},
   "source": [
    "# SHALLOW COPY"
   ]
  },
  {
   "cell_type": "code",
   "execution_count": 1,
   "metadata": {},
   "outputs": [
    {
     "name": "stdout",
     "output_type": "stream",
     "text": [
      "['ash', 24, 'jahn', 23] #And this is list_A\n",
      "['ash', 24, 'jahn', 23] #And this is list_C\n",
      "2070909429704\n",
      "2070909430792\n"
     ]
    },
    {
     "data": {
      "text/plain": [
       "False"
      ]
     },
     "execution_count": 1,
     "metadata": {},
     "output_type": "execute_result"
    }
   ],
   "source": [
    "list_A=['ash',24,'jahn',23]\n",
    "list_B=['aish',143,8,'solo']\n",
    "list_C=list_A[:]\n",
    "print(list_A,'#And this is list_A')\n",
    "print(list_C,'#And this is list_C')\n",
    "print(id(list_A))\n",
    "print(id(list_C))\n",
    "#checking two lists\n",
    "list_C is list_A"
   ]
  },
  {
   "cell_type": "code",
   "execution_count": 2,
   "metadata": {},
   "outputs": [
    {
     "name": "stdout",
     "output_type": "stream",
     "text": [
      "['ash', 24, 'jahn', 23, 'loves'] #and this is appended(newly added) list_A\n",
      "['ash', 24, 'jahn', 23, 'loves'] #and this is list_D\n",
      "2070909429704\n",
      "2070909601480\n"
     ]
    },
    {
     "data": {
      "text/plain": [
       "False"
      ]
     },
     "execution_count": 2,
     "metadata": {},
     "output_type": "execute_result"
    }
   ],
   "source": [
    "list_A.append('loves')\n",
    "list_D=list(list_A)\n",
    "print(list_A,'#and this is appended(newly added) list_A')\n",
    "print(list_D,'#and this is list_D')\n",
    "print(id(list_A))\n",
    "print(id(list_D))\n",
    "list_D is list_A"
   ]
  },
  {
   "cell_type": "markdown",
   "metadata": {},
   "source": [
    "# DEEPCOPY"
   ]
  },
  {
   "cell_type": "code",
   "execution_count": 3,
   "metadata": {},
   "outputs": [
    {
     "name": "stdout",
     "output_type": "stream",
     "text": [
      "[['we'], 8, 69, ['are']]\n"
     ]
    }
   ],
   "source": [
    "from copy import deepcopy\n",
    "list_E=[['we'],8,69,['are']]\n",
    "list_F=deepcopy(list_E)\n",
    "print(list_E)"
   ]
  },
  {
   "cell_type": "code",
   "execution_count": 4,
   "metadata": {},
   "outputs": [
    {
     "name": "stdout",
     "output_type": "stream",
     "text": [
      "[['we'], 8, 69, ['are'], 143] #and this is appended(newly added) list_E\n",
      "[['we'], 8, 69, ['are']] #and this is list_F\n"
     ]
    }
   ],
   "source": [
    "list_E.append(143)\n",
    "print(list_E,'#and this is appended(newly added) list_E')\n",
    "print(list_F,'#and this is list_F')"
   ]
  },
  {
   "cell_type": "code",
   "execution_count": 6,
   "metadata": {},
   "outputs": [
    {
     "name": "stdout",
     "output_type": "stream",
     "text": [
      "[['we'], 8, 69, ['are', 'in'], 143] #and this is list_E\n",
      "[['we'], 8, 69, ['are']] #and this is list_F\n"
     ]
    }
   ],
   "source": [
    "list_E[3].append('in')\n",
    "print(list_E,'#and this is list_E')\n",
    "print(list_F,'#and this is list_F')"
   ]
  },
  {
   "cell_type": "code",
   "execution_count": 7,
   "metadata": {},
   "outputs": [
    {
     "name": "stdout",
     "output_type": "stream",
     "text": [
      "[['we'], 8, 69, ['are', 'in'], 143] #and this is list_E\n",
      "[['we'], 8, 69, ['are', 'love']] #and this is list_F\n"
     ]
    }
   ],
   "source": [
    "list_F[3].append('love')\n",
    "print(list_E,'#and this is list_E')\n",
    "print(list_F,'#and this is list_F')"
   ]
  },
  {
   "cell_type": "code",
   "execution_count": null,
   "metadata": {},
   "outputs": [],
   "source": []
  }
 ],
 "metadata": {
  "kernelspec": {
   "display_name": "Python 3",
   "language": "python",
   "name": "python3"
  },
  "language_info": {
   "codemirror_mode": {
    "name": "ipython",
    "version": 3
   },
   "file_extension": ".py",
   "mimetype": "text/x-python",
   "name": "python",
   "nbconvert_exporter": "python",
   "pygments_lexer": "ipython3",
   "version": "3.7.6"
  }
 },
 "nbformat": 4,
 "nbformat_minor": 4
}
